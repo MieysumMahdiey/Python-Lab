{
  "cells": [
    {
      "cell_type": "markdown",
      "id": "3cddad5c",
      "metadata": {
        "id": "3cddad5c"
      },
      "source": [
        "# Functions in Python: A Primer for Business Data Analysts"
      ]
    },
    {
      "cell_type": "markdown",
      "id": "9be8489d",
      "metadata": {
        "id": "9be8489d"
      },
      "source": [
        "## Introduction\n",
        "### Functions are fundamental building blocks in Python programming. They allow you to encapsulate a specific task or calculation into a reusable block of code. This promotes modularity, reusability, and readability in your scripts.\n",
        "\n",
        "## Defining a Function\n",
        "### To define a function in Python, you use the def keyword followed by the function name and parentheses. Inside the parentheses, you can define parameters, which are variables that accept input values. The function's body is indented and contains the code that will be executed when the function is called."
      ]
    },
    {
      "cell_type": "code",
      "execution_count": 1,
      "id": "4040b2ae",
      "metadata": {
        "id": "4040b2ae"
      },
      "outputs": [],
      "source": [
        "def greet(name):\n",
        "  print(\"Hello, \" + name + \"!\")"
      ]
    },
    {
      "cell_type": "markdown",
      "id": "a8a04000",
      "metadata": {
        "id": "a8a04000"
      },
      "source": [
        "## Calling a Function\n",
        "### To execute a function, you simply call it by its name, followed by any necessary arguments:"
      ]
    },
    {
      "cell_type": "code",
      "execution_count": 2,
      "id": "2d499e44",
      "metadata": {
        "colab": {
          "base_uri": "https://localhost:8080/"
        },
        "id": "2d499e44",
        "outputId": "fb9d4102-6768-4243-c6f4-8779eea6847d"
      },
      "outputs": [
        {
          "output_type": "stream",
          "name": "stdout",
          "text": [
            "Hello, Imran!\n"
          ]
        }
      ],
      "source": [
        "greet(\"Imran\")  # Output: Hello, Imran!"
      ]
    },
    {
      "cell_type": "code",
      "execution_count": null,
      "id": "1219cd90",
      "metadata": {
        "id": "1219cd90"
      },
      "outputs": [],
      "source": [
        "greet(\"Imran\")  # Output: Hello, Imran!"
      ]
    },
    {
      "cell_type": "markdown",
      "id": "6e1eb5dc",
      "metadata": {
        "id": "6e1eb5dc"
      },
      "source": [
        "## Function Parameters and Arguments\n",
        "### Parameters: These are the variables defined within the function's parentheses. They act as placeholders for values that will be passed to the function when it's called.\n",
        "### Arguments: These are the actual values passed to the function when it's called. They are assigned to the corresponding parameters."
      ]
    },
    {
      "cell_type": "code",
      "execution_count": null,
      "id": "03828542",
      "metadata": {
        "id": "03828542"
      },
      "outputs": [],
      "source": [
        "def calculate_area(length, width):\n",
        "  area = length * width\n",
        "  return area\n",
        "\n",
        "result = calculate_area(5, 3)\n",
        "print(result)  # Output: 15"
      ]
    },
    {
      "cell_type": "markdown",
      "id": "5968901e",
      "metadata": {
        "id": "5968901e"
      },
      "source": [
        "## Return Statement\n",
        "### The return statement is used to specify the value that a function should return. Once the return statement is executed, the function terminates and the specified value is returned to the caller."
      ]
    },
    {
      "cell_type": "markdown",
      "id": "29da4f9d",
      "metadata": {
        "id": "29da4f9d"
      },
      "source": [
        "## Practice Exercises\n",
        "\n",
        "### Simple Function:\n",
        "#### Create a function named greet_with_time that takes a name as input and prints a greeting message along with the current time.\n",
        "### Function with Multiple Parameters:\n",
        "#### Write a function called calculate_average that takes three numbers as input and returns their average.\n",
        "### Default Argument:\n",
        "#### Define a function calculate_discount that takes a price and a discount percentage as input. Set a default discount percentage of 10%.\n",
        "### Keyword Arguments:\n",
        "#### Create a function print_info that takes a name, age, and city as keyword arguments.\n",
        "### Variable-Length Arguments:\n",
        "#### Write a function find_max that can take any number of arguments and returns the maximum value.\n",
        "### Recursive Function:\n",
        "#### Implement a recursive function to calculate the factorial of a number.\n",
        "### Function as an Argument:\n",
        "#### Define a function apply_function that takes a function and a list of numbers as input. Apply the function to each number in the list and return a new list with the results.\n",
        "### Lambda Functions:\n",
        "#### Create a lambda function to square a number.\n",
        "### Higher-Order Functions:\n",
        "#### Write a function apply_operation that takes a function and a list of numbers. Apply the function to each number and return a new list.\n",
        "### Function Decorators:\n",
        "#### Implement a decorator to measure the execution time of a function."
      ]
    },
    {
      "cell_type": "code",
      "execution_count": 4,
      "id": "49ebbbe0",
      "metadata": {
        "colab": {
          "base_uri": "https://localhost:8080/"
        },
        "id": "49ebbbe0",
        "outputId": "21f1b3d3-8b36-44da-cfd9-e10f43e59fa0"
      },
      "outputs": [
        {
          "output_type": "stream",
          "name": "stdout",
          "text": [
            "Hello MEESUM! , The Current Time Is 07:32.\n"
          ]
        }
      ],
      "source": [
        "#Create a function named greet_with_time that takes a name as input and prints a greeting message along with the current time.\n",
        "def greet_with_time(person):\n",
        "    from datetime import datetime\n",
        "    current_time = datetime.now().strftime(\"%H:%M\")\n",
        "    print(f\"Hello {person}! , The Current Time Is {current_time}.\")\n",
        "greet_with_time(\"MEESUM\")"
      ]
    },
    {
      "cell_type": "code",
      "execution_count": 6,
      "id": "254486aa-b9c8-48b1-a5eb-0e7eb42a414e",
      "metadata": {
        "colab": {
          "base_uri": "https://localhost:8080/"
        },
        "id": "254486aa-b9c8-48b1-a5eb-0e7eb42a414e",
        "outputId": "a73c9b4a-96aa-4223-a836-edbffbd0d333"
      },
      "outputs": [
        {
          "output_type": "stream",
          "name": "stdout",
          "text": [
            "16.666666666666668\n"
          ]
        }
      ],
      "source": [
        "#Write a function called calculate_average that takes three numbers as input and returns their average.\n",
        "def calculate_average(num1,num2,num3):\n",
        "    return(num1+num2+num3)/3\n",
        "average= calculate_average(12,16,22)\n",
        "print(average)"
      ]
    },
    {
      "cell_type": "code",
      "execution_count": 7,
      "id": "c81f70fb-83e1-4107-8658-8621d819881d",
      "metadata": {
        "colab": {
          "base_uri": "https://localhost:8080/"
        },
        "id": "c81f70fb-83e1-4107-8658-8621d819881d",
        "outputId": "6641fd32-9159-435e-bdc4-109364ccead6"
      },
      "outputs": [
        {
          "output_type": "stream",
          "name": "stdout",
          "text": [
            "1080.0\n"
          ]
        }
      ],
      "source": [
        "#Define a function calculate_discount that takes a price and a discount percentage as input. Set a default discount percentage of 10%\n",
        "def calculate_discount(price, discount=10):\n",
        "    final_amount = price - (price * discount/ 100)\n",
        "    print(final_amount)\n",
        "calculate_discount(1200)"
      ]
    },
    {
      "cell_type": "code",
      "execution_count": 8,
      "id": "2cdf5f5a-2866-4b5e-9baa-83724a854018",
      "metadata": {
        "colab": {
          "base_uri": "https://localhost:8080/"
        },
        "id": "2cdf5f5a-2866-4b5e-9baa-83724a854018",
        "outputId": "ea20c976-677c-40c5-e0dd-94849cc3298c"
      },
      "outputs": [
        {
          "output_type": "stream",
          "name": "stdout",
          "text": [
            "Name: Meesum\n",
            "Age: 19\n",
            "City: Lahore\n"
          ]
        }
      ],
      "source": [
        "#Create a function print_info that takes a name, age, and city as keyword arguments.def print_info(*, name, age, city):\n",
        "def print_info(*, name, age, city):\n",
        "    print(f\"Name: {name}\")\n",
        "    print(f\"Age: {age}\")\n",
        "    print(f\"City: {city}\")\n",
        "print_info(name=\"Meesum\",age=19,city=\"Lahore\")"
      ]
    },
    {
      "cell_type": "code",
      "execution_count": 9,
      "id": "1fe23ef4-355e-496c-929f-31dfaa4e2a71",
      "metadata": {
        "colab": {
          "base_uri": "https://localhost:8080/"
        },
        "id": "1fe23ef4-355e-496c-929f-31dfaa4e2a71",
        "outputId": "0a506540-a0f4-4b74-fd06-23c19432687a"
      },
      "outputs": [
        {
          "output_type": "stream",
          "name": "stdout",
          "text": [
            "64\n"
          ]
        }
      ],
      "source": [
        "#Write a function find_max that can take any number of arguments and returns the maximum value\n",
        "def find_max(*args):\n",
        "    return max(args)\n",
        "print(find_max(2, 4, 8, 16, 32, 64))"
      ]
    },
    {
      "cell_type": "code",
      "execution_count": 10,
      "id": "e5bb63f4-90a0-444e-8cd3-1cf7ae5ae361",
      "metadata": {
        "colab": {
          "base_uri": "https://localhost:8080/"
        },
        "id": "e5bb63f4-90a0-444e-8cd3-1cf7ae5ae361",
        "outputId": "cb7750dd-a103-4411-c746-29be7b37d004"
      },
      "outputs": [
        {
          "output_type": "stream",
          "name": "stdout",
          "text": [
            "2658271574788448768043625811014615890319638528000000000\n"
          ]
        }
      ],
      "source": [
        "#Implement a recursive function to calculdef fact(num)\n",
        "def fact(num):\n",
        "    if num <= 1:\n",
        "        return 1\n",
        "    return num * fact(num - 1)\n",
        "print(fact(44))"
      ]
    },
    {
      "cell_type": "code",
      "execution_count": 11,
      "id": "d85ce81c-8a7d-4638-844b-f7e03232ef32",
      "metadata": {
        "colab": {
          "base_uri": "https://localhost:8080/"
        },
        "id": "d85ce81c-8a7d-4638-844b-f7e03232ef32",
        "outputId": "6b7e8345-2b16-4e42-b7b0-2a3412afd5fa"
      },
      "outputs": [
        {
          "output_type": "stream",
          "name": "stdout",
          "text": [
            "[4, 16, 64, 256]\n"
          ]
        }
      ],
      "source": [
        "#Define a function apply_function that takes a function and a list of numbers as input. Apply the function to each number in the list and return a new list with the results.\n",
        "def sq(n):\n",
        "    return n * n\n",
        "def apply_function(f, nums):\n",
        "    return [f(i) for i in nums]\n",
        "nums = [2, 4, 8, 16]\n",
        "result = apply_function(sq, nums)\n",
        "print(result)"
      ]
    },
    {
      "cell_type": "code",
      "execution_count": 12,
      "id": "9eaefd94-83d4-4b75-9a0e-c9a303491c0d",
      "metadata": {
        "colab": {
          "base_uri": "https://localhost:8080/"
        },
        "id": "9eaefd94-83d4-4b75-9a0e-c9a303491c0d",
        "outputId": "c84c630a-597d-4062-d578-469fdec31168"
      },
      "outputs": [
        {
          "output_type": "stream",
          "name": "stdout",
          "text": [
            "16\n"
          ]
        }
      ],
      "source": [
        "#Create a lambda function to square a number\n",
        "square = lambda x: x ** 2\n",
        "print(square(4))"
      ]
    },
    {
      "cell_type": "code",
      "execution_count": null,
      "id": "3d7f2e18-d794-4623-9579-e929e718f044",
      "metadata": {
        "id": "3d7f2e18-d794-4623-9579-e929e718f044"
      },
      "outputs": [],
      "source": []
    }
  ],
  "metadata": {
    "kernelspec": {
      "display_name": "Python 3 (ipykernel)",
      "language": "python",
      "name": "python3"
    },
    "language_info": {
      "codemirror_mode": {
        "name": "ipython",
        "version": 3
      },
      "file_extension": ".py",
      "mimetype": "text/x-python",
      "name": "python",
      "nbconvert_exporter": "python",
      "pygments_lexer": "ipython3",
      "version": "3.12.4"
    },
    "colab": {
      "provenance": []
    }
  },
  "nbformat": 4,
  "nbformat_minor": 5
}